{
  "nbformat": 4,
  "nbformat_minor": 0,
  "metadata": {
    "colab": {
      "provenance": []
    },
    "kernelspec": {
      "name": "python3",
      "display_name": "Python 3"
    },
    "language_info": {
      "name": "python"
    }
  },
  "cells": [
    {
      "cell_type": "code",
      "execution_count": 1,
      "metadata": {
        "id": "5CBxjIo-E_Xm"
      },
      "outputs": [],
      "source": [
        "# !pip install -U deepeval"
      ]
    },
    {
      "cell_type": "code",
      "source": [
        "from deepeval import assert_test\n",
        "from deepeval.test_case import LLMTestCase, LLMTestCaseParams\n",
        "from deepeval.metrics import GEval\n",
        "\n",
        "def test_correctness():\n",
        "    correctness_metric = GEval(\n",
        "        name=\"Correctness\",\n",
        "        criteria=\"Determine if the 'actual output' is correct based on the 'expected output'.\",\n",
        "        evaluation_params=[LLMTestCaseParams.ACTUAL_OUTPUT, LLMTestCaseParams.EXPECTED_OUTPUT],\n",
        "        threshold=0.5\n",
        "    )\n",
        "    test_case = LLMTestCase(\n",
        "        input=\"I have a persistent cough and fever. Should I be worried?\",\n",
        "        # Replace this with the actual output of your LLM application\n",
        "        actual_output=\"A persistent cough and fever could be a viral infection or something more serious. See a doctor if symptoms worsen or don’t improve in a few days.\",\n",
        "        expected_output=\"A persistent cough and fever could indicate a range of illnesses, from a mild viral infection to more serious conditions like pneumonia or COVID-19. You should seek medical attention if your symptoms worsen, persist for more than a few days, or are accompanied by difficulty breathing, chest pain, or other concerning signs.\"\n",
        "    )\n",
        "    assert_test(test_case, [correctness_metric])"
      ],
      "metadata": {
        "id": "n-GtYoFaFCVO"
      },
      "execution_count": 2,
      "outputs": []
    },
    {
      "cell_type": "code",
      "source": [],
      "metadata": {
        "id": "btnAXhAuFnNi"
      },
      "execution_count": null,
      "outputs": []
    }
  ]
}